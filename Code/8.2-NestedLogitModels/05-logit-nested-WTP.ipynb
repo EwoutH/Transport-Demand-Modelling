{
 "cells": [
  {
   "cell_type": "markdown",
   "metadata": {},
   "source": [
    "# Nested Logit Model: Compute Willingness To Pay Indicators"
   ]
  },
  {
   "cell_type": "code",
   "execution_count": 1,
   "metadata": {},
   "outputs": [],
   "source": [
    "import pandas as pd\n",
    "import numpy as np\n",
    "import biogeme.database as db\n",
    "import biogeme.biogeme as bio\n",
    "import biogeme.models as models\n",
    "import biogeme.optimization as opt\n",
    "import biogeme.results as res\n",
    "from biogeme.expressions import Beta, DefineVariable, Derive\n",
    "import seaborn as sns\n",
    "import matplotlib.pyplot as plt"
   ]
  },
  {
   "cell_type": "markdown",
   "metadata": {},
   "source": [
    "**Import Optima data**"
   ]
  },
  {
   "cell_type": "code",
   "execution_count": 2,
   "metadata": {},
   "outputs": [],
   "source": [
    "pandas = pd.read_csv(\"../../Data/8-DiscreteChoiceModels/optima.dat\",sep='\\t')\n",
    "database = db.Database (\"data/optima\", pandas)"
   ]
  },
  {
   "cell_type": "markdown",
   "metadata": {},
   "source": [
    "**Use collumn names as variables**"
   ]
  },
  {
   "cell_type": "code",
   "execution_count": 3,
   "metadata": {},
   "outputs": [],
   "source": [
    "globals().update(database.variables)"
   ]
  },
  {
   "cell_type": "markdown",
   "metadata": {},
   "source": [
    "**Exclude some unwanted entries**"
   ]
  },
  {
   "cell_type": "code",
   "execution_count": 4,
   "metadata": {},
   "outputs": [],
   "source": [
    "exclude = (Choice == -1.)\n",
    "database.remove(exclude)"
   ]
  },
  {
   "cell_type": "markdown",
   "metadata": {},
   "source": [
    "**Define some dummy variables**"
   ]
  },
  {
   "cell_type": "code",
   "execution_count": 5,
   "metadata": {},
   "outputs": [],
   "source": [
    "male = (Gender == 1)\n",
    "female = (Gender == 2)\n",
    "unreportedGender = (Gender == -1)\n",
    "\n",
    "fulltime = (OccupStat == 1)\n",
    "notfulltime = (OccupStat != 1)"
   ]
  },
  {
   "cell_type": "markdown",
   "metadata": {},
   "source": [
    "**Rescale some data**"
   ]
  },
  {
   "cell_type": "code",
   "execution_count": 6,
   "metadata": {},
   "outputs": [],
   "source": [
    "TimePT_scaled = TimePT / 200\n",
    "TimeCar_scaled = TimeCar / 200\n",
    "MarginalCostPT_scaled = MarginalCostPT / 10\n",
    "CostCarCHF_scaled = CostCarCHF / 10\n",
    "distance_km_scaled = distance_km / 5"
   ]
  },
  {
   "cell_type": "markdown",
   "metadata": {},
   "source": [
    "**Compute normalizing weights for each alternative**"
   ]
  },
  {
   "cell_type": "code",
   "execution_count": 7,
   "metadata": {},
   "outputs": [],
   "source": [
    "sumWeight = database.data['Weight'].sum()\n",
    "normalized_Weight = Weight * len(database.data['Weight']) / sumWeight"
   ]
  },
  {
   "cell_type": "markdown",
   "metadata": {},
   "source": [
    "**Create parameters to be estimated**"
   ]
  },
  {
   "cell_type": "code",
   "execution_count": 8,
   "metadata": {},
   "outputs": [],
   "source": [
    "ASC_CAR              = Beta('ASC_CAR',0,None,None,0)\n",
    "ASC_PT               = Beta('ASC_PT',0,None,None,1)\n",
    "ASC_SM               = Beta('ASC_SM',0,None,None,0)\n",
    "BETA_TIME_FULLTIME   = Beta('BETA_TIME_FULLTIME',0,None,None,0)\n",
    "BETA_TIME_OTHER      = Beta('BETA_TIME_OTHER',0,None,None,0)\n",
    "BETA_DIST_MALE       = Beta('BETA_DIST_MALE',0,None,None,0)\n",
    "BETA_DIST_FEMALE     = Beta('BETA_DIST_FEMALE',0,None,None,0)\n",
    "BETA_DIST_UNREPORTED = Beta('BETA_DIST_UNREPORTED',0,None,None,0)\n",
    "BETA_COST            = Beta('BETA_COST',0,None,None,0)"
   ]
  },
  {
   "cell_type": "markdown",
   "metadata": {},
   "source": [
    "**Define the utility functions**\n",
    "\n",
    "\\begin{align}\n",
    "V_{PT} & = \\beta_{PT} + \\beta_{time_{fulltime}} X_{time_{PT}} X_{fulltime} + \\beta_{time_{other}} X_{time_{PT}} X_{not\\_fulltime} + \\beta_{cost} X_{cost_{PT}} \\\\\n",
    "V_{car} & = \\beta_{car} + \\beta_{time_{fulltime}} X_{time_{car}} X_{fulltime} + \\beta_{time_{other}} X_{time_{car}} X_{not\\_fulltime} + \\beta_{cost} X_{cost_{car}} \\\\\n",
    "V_{SM} & = \\beta_{SM} + \\beta_{male} X_{distance} X_{male} + \\beta_{female} X_{distance} X_{female} + \\beta_{unreported} X_{distance} X_{unreported}\n",
    "\\end{align}"
   ]
  },
  {
   "cell_type": "code",
   "execution_count": 9,
   "metadata": {},
   "outputs": [],
   "source": [
    "V_PT = ASC_PT + BETA_TIME_FULLTIME * TimePT_scaled * fulltime + \\\n",
    "       BETA_TIME_OTHER * TimePT_scaled * notfulltime + \\\n",
    "       BETA_COST * MarginalCostPT_scaled\n",
    "V_CAR = ASC_CAR + \\\n",
    "        BETA_TIME_FULLTIME * TimeCar_scaled * fulltime + \\\n",
    "        BETA_TIME_OTHER * TimeCar_scaled * notfulltime + \\\n",
    "        BETA_COST * CostCarCHF_scaled\n",
    "V_SM = ASC_SM + \\\n",
    "       BETA_DIST_MALE * distance_km_scaled * male + \\\n",
    "       BETA_DIST_FEMALE * distance_km_scaled * female + \\\n",
    "       BETA_DIST_UNREPORTED * distance_km_scaled * unreportedGender"
   ]
  },
  {
   "cell_type": "markdown",
   "metadata": {},
   "source": [
    "**Associate utility functions with alternatives and associate availability of alternatives**\n",
    "\n",
    "In this example all alternatives are available for each individual"
   ]
  },
  {
   "cell_type": "code",
   "execution_count": 10,
   "metadata": {},
   "outputs": [],
   "source": [
    "V = {0: V_PT,\n",
    "     1: V_CAR,\n",
    "     2: V_SM}\n",
    "\n",
    "av = {0: 1,\n",
    "      1: 1,\n",
    "      2: 1}"
   ]
  },
  {
   "cell_type": "markdown",
   "metadata": {},
   "source": [
    "**Define the nests**\n",
    "\n",
    "1. Define the nests paramenters\n",
    "2. List alternatives in nests"
   ]
  },
  {
   "cell_type": "code",
   "execution_count": 11,
   "metadata": {},
   "outputs": [],
   "source": [
    "MU_NO_CAR = Beta('MU_NO_CAR', 1.,1.,None,0)\n",
    "\n",
    "CAR_NEST = 1., [1]\n",
    "NO_CAR_NEST = MU_NO_CAR, [0, 2]\n",
    "\n",
    "nests = CAR_NEST, NO_CAR_NEST"
   ]
  },
  {
   "cell_type": "markdown",
   "metadata": {},
   "source": [
    "**Define the WTP**"
   ]
  },
  {
   "cell_type": "code",
   "execution_count": 12,
   "metadata": {},
   "outputs": [],
   "source": [
    "WTP_PT_TIME = Derive(V_PT,'TimePT') / Derive(V_PT,'MarginalCostPT')\n",
    "WTP_CAR_TIME = Derive(V_CAR,'TimeCar') / Derive(V_CAR,'CostCarCHF')"
   ]
  },
  {
   "cell_type": "markdown",
   "metadata": {},
   "source": [
    "**Define what we want to simulate**"
   ]
  },
  {
   "cell_type": "code",
   "execution_count": 13,
   "metadata": {},
   "outputs": [],
   "source": [
    "simulate = {'weight': normalized_Weight,\n",
    "            'WTP PT time': WTP_PT_TIME,\n",
    "            'WTP CAR time': WTP_CAR_TIME}"
   ]
  },
  {
   "cell_type": "markdown",
   "metadata": {},
   "source": [
    "**Define the Biogeme object**"
   ]
  },
  {
   "cell_type": "code",
   "execution_count": 14,
   "metadata": {},
   "outputs": [],
   "source": [
    "biogeme = bio.BIOGEME(database, simulate, removeUnusedVariables=False)\n",
    "biogeme.modelName = \"optima_nested_logit_wtp\""
   ]
  },
  {
   "cell_type": "markdown",
   "metadata": {},
   "source": [
    "**Retrieve the names of the variables we want to use. Then retrieve the results from the model that we estimated earlier**"
   ]
  },
  {
   "cell_type": "code",
   "execution_count": 15,
   "metadata": {},
   "outputs": [],
   "source": [
    "betas = biogeme.freeBetaNames\n",
    "\n",
    "results = res.bioResults(pickleFile='optima_nested_logit.pickle')\n",
    "betaValues = results.getBetaValues ()"
   ]
  },
  {
   "cell_type": "markdown",
   "metadata": {},
   "source": [
    "**Perform the simulation**"
   ]
  },
  {
   "cell_type": "code",
   "execution_count": 16,
   "metadata": {},
   "outputs": [],
   "source": [
    "simulatedValues = biogeme.simulate(betaValues)"
   ]
  },
  {
   "cell_type": "markdown",
   "metadata": {},
   "source": [
    "**Compute the WTP for the car and its confidence interval**"
   ]
  },
  {
   "cell_type": "code",
   "execution_count": 17,
   "metadata": {},
   "outputs": [],
   "source": [
    "wtpcar = (60 * simulatedValues['WTP CAR time'] * simulatedValues['weight']).mean()\n",
    "\n",
    "b = results.getBetasForSensitivityAnalysis(betas,size=100)\n",
    "left,right = biogeme.confidenceIntervals(b,0.9)\n",
    "wtpcar_left = (60 * left['WTP CAR time'] * left['weight']).mean()\n",
    "wtpcar_right = (60 * right['WTP CAR time'] * right['weight']).mean()"
   ]
  },
  {
   "cell_type": "markdown",
   "metadata": {},
   "source": [
    "**Print the Time WTP for car**"
   ]
  },
  {
   "cell_type": "code",
   "execution_count": 18,
   "metadata": {},
   "outputs": [
    {
     "name": "stdout",
     "output_type": "stream",
     "text": [
      "Average WTP for car: 3.96 CI:[1.59,6.91]\n"
     ]
    }
   ],
   "source": [
    "print(f\"Average WTP for car: {wtpcar:.3g} CI:[{wtpcar_left:.3g},{wtpcar_right:.3g}]\")"
   ]
  },
  {
   "cell_type": "markdown",
   "metadata": {},
   "source": [
    "**Analize all WTP values**"
   ]
  },
  {
   "cell_type": "code",
   "execution_count": 19,
   "metadata": {},
   "outputs": [
    {
     "name": "stdout",
     "output_type": "stream",
     "text": [
      "Unique values:  ['2.42', '6.69']\n"
     ]
    }
   ],
   "source": [
    "print(\"Unique values: \", [f\"{i:.3g}\" for i in 60 * simulatedValues['WTP CAR time'].unique()])"
   ]
  },
  {
   "cell_type": "markdown",
   "metadata": {},
   "source": [
    "**Check this for groups within the population. Define a subgroup that automatically does this for us**"
   ]
  },
  {
   "cell_type": "code",
   "execution_count": 20,
   "metadata": {},
   "outputs": [],
   "source": [
    "def wtpForSubgroup(filter):\n",
    "    size = filter.sum()\n",
    "    sim = simulatedValues[filter]\n",
    "    totalWeight = sim['weight'].sum()\n",
    "    weight = sim['weight'] * size / totalWeight\n",
    "    wtpcar = (60 * sim['WTP CAR time'] * weight ).mean()\n",
    "    wtpcar_left = (60 * left[filter]['WTP CAR time'] * weight ).mean()\n",
    "    wtpcar_right = (60 * right[filter]['WTP CAR time'] * weight ).mean()\n",
    "    return wtpcar, wtpcar_left,wtpcar_right"
   ]
  },
  {
   "cell_type": "markdown",
   "metadata": {},
   "source": [
    "**Filter: Full time workers**"
   ]
  },
  {
   "cell_type": "code",
   "execution_count": 21,
   "metadata": {},
   "outputs": [
    {
     "name": "stdout",
     "output_type": "stream",
     "text": [
      "WTP car for workers: 6.69 CI:[3.38,10.5]\n"
     ]
    }
   ],
   "source": [
    "filter = database.data['OccupStat'] == 1\n",
    "w,l,r = wtpForSubgroup(filter)\n",
    "print(f\"WTP car for workers: {w:.3g} CI:[{l:.3g},{r:.3g}]\")"
   ]
  },
  {
   "cell_type": "markdown",
   "metadata": {},
   "source": [
    "**Filter: Females**"
   ]
  },
  {
   "cell_type": "code",
   "execution_count": 22,
   "metadata": {},
   "outputs": [
    {
     "name": "stdout",
     "output_type": "stream",
     "text": [
      "WTP car for females: 3.17 CI:[1.07,5.88]\n"
     ]
    }
   ],
   "source": [
    "filter = database.data['Gender'] == 2\n",
    "w,l,r = wtpForSubgroup(filter)\n",
    "print(f\"WTP car for females: {w:.3g} CI:[{l:.3g},{r:.3g}]\")"
   ]
  },
  {
   "cell_type": "markdown",
   "metadata": {},
   "source": [
    "**Filter: Males**"
   ]
  },
  {
   "cell_type": "code",
   "execution_count": 23,
   "metadata": {},
   "outputs": [
    {
     "name": "stdout",
     "output_type": "stream",
     "text": [
      "WTP car for males: 4.95 CI:[2.24,8.22]\n"
     ]
    }
   ],
   "source": [
    "filter = database.data['Gender'] == 1\n",
    "w,l,r = wtpForSubgroup(filter)\n",
    "print(f\"WTP car for males: {w:.3g} CI:[{l:.3g},{r:.3g}]\")"
   ]
  },
  {
   "cell_type": "markdown",
   "metadata": {},
   "source": [
    "**Plot the distribution of individuals and their WTP in the population**"
   ]
  },
  {
   "cell_type": "code",
   "execution_count": 24,
   "metadata": {},
   "outputs": [
    {
     "data": {
      "image/png": "[encoded data removed]",
      "text/plain": [
       "<Figure size 432x288 with 1 Axes>"
      ]
     },
     "metadata": {
      "needs_background": "light"
     },
     "output_type": "display_data"
    }
   ],
   "source": [
    "plt.hist(60*simulatedValues['WTP CAR time'],\n",
    "         weights = simulatedValues['weight'])\n",
    "plt.xlabel(\"WTP (CHF/hour)\")\n",
    "plt.ylabel(\"Individuals\")\n",
    "plt.show()"
   ]
  },
  {
   "cell_type": "code",
   "execution_count": null,
   "metadata": {},
   "outputs": [],
   "source": []
  }
 ],
 "metadata": {
  "kernelspec": {
   "display_name": "Python 3",
   "language": "python",
   "name": "python3"
  },
  "language_info": {
   "codemirror_mode": {
    "name": "ipython",
    "version": 3
   },
   "file_extension": ".py",
   "mimetype": "text/x-python",
   "name": "python",
   "nbconvert_exporter": "python",
   "pygments_lexer": "ipython3",
   "version": "3.8.5"
  }
 },
 "nbformat": 4,
 "nbformat_minor": 2
}
